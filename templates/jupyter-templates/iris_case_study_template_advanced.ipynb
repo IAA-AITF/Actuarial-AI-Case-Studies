{
 "cells": [
  {
   "cell_type": "markdown",
   "id": "f114e47d",
   "metadata": {},
   "source": [
    "<p style=\"font-size:19px; text-align:left;\"><i>Optional additional title</i></p>\n",
    "<p style=\"font-size:25px; text-align:left; font-weight:bold;\">Iris Dataset Case Study</p>\n",
    "<p style=\"font-size:19px; text-align:left; margin-top: -10px; margin-bottom: 15px;\">Your Name (<a href=\"mailto:xyz@abc.com\">xyz@abc.com</a>)\n",
    "<p style=\"font-style:italic; font-size: 19px\">Date: April 14, 2025</p>"
   ]
  },
  {
   "cell_type": "markdown",
   "id": "c287053e",
   "metadata": {},
   "source": [
    "<h1 style=\"font-size:22px; background-color: #E6E6E6; color: black; height: 50px; line-height: 50px; padding-left: 14px;\">Table of Contents</h1>"
   ]
  },
  {
   "cell_type": "markdown",
   "id": "cae56e7c",
   "metadata": {},
   "source": [
    "[1. Introduction](#introduction)\n",
    "\n",
    "[2. Data Loading & Preview](#data_loading_and_preview) <br>\n",
    "&emsp;&emsp;&emsp;[2.1 Importing Required Packages](#importing_required_packages) <br>\n",
    "&emsp;&emsp;&emsp;[2.2 Inspecting Data](#inspecting_data) <br>\n",
    "\n",
    "[3. Exploratory Visualization](#exploratory_visualization)\n",
    "\n",
    "[4. Minimal Working ML Example](#minimal_working_ml_example)\n",
    "\n",
    "[5. How‑To Examples](#how_to_examples)\n",
    "\n",
    "[6. External Resources](#external_resources)"
   ]
  },
  {
   "cell_type": "markdown",
   "id": "0b26eef3",
   "metadata": {},
   "source": [
    "<h1 id=\"introduction\" style=\"font-size:22px; background-color: #E6E6E6; color: black; height: 50px; line-height: 50px;  padding-left: 14px;\">1. Introduction</h1>"
   ]
  },
  {
   "cell_type": "markdown",
   "id": "a1a17e5d",
   "metadata": {},
   "source": [
    "This notebook provides a minimal case study on the Iris dataset.\n",
    "We'll cover loading the data, exploratory visualization, building a simple classifier, and referencing external resources."
   ]
  },
  {
   "cell_type": "markdown",
   "id": "1657118d",
   "metadata": {},
   "source": [
    "<h1 id=\"data_loading_and_preview\" style=\"font-size:22px; background-color: #E6E6E6; color: black; height: 50px; line-height: 50px;  padding-left: 14px;\">2. Data Loading & Preview</h1>"
   ]
  },
  {
   "cell_type": "markdown",
   "id": "1863cecf",
   "metadata": {},
   "source": [
    "Below we import necessary libraries, load the Iris dataset into a Pandas DataFrame, and preview the first five rows."
   ]
  },
  {
   "cell_type": "markdown",
   "id": "e91db613",
   "metadata": {},
   "source": [
    "<h1 id=\"importing_required_packages\"\n",
    "    style=\"font-size:20px; font-weight:bold; margin-top: 10px;\">\n",
    "    2.1 Importing Required Packages\n",
    "    <a class=\"anchor-link\"\n",
    "       href=\"#importing_required_packages\"\n",
    "       target=\"_self\"\n",
    "       rel=\"noopener noreferrer\">\n",
    "    </a>\n",
    "    <hr style=\"border: none; border-top: 3px solid; margin-top: 10px;\">\n",
    "</h1>"
   ]
  },
  {
   "cell_type": "markdown",
   "id": "d402282c",
   "metadata": {},
   "source": [
    "First, we import all required packages."
   ]
  },
  {
   "cell_type": "code",
   "execution_count": 1,
   "id": "1cfe599b",
   "metadata": {},
   "outputs": [],
   "source": [
    "import pandas as pd\n",
    "from sklearn.datasets import load_iris\n",
    "import matplotlib.pyplot as plt"
   ]
  },
  {
   "cell_type": "markdown",
   "id": "c3afafae",
   "metadata": {},
   "source": [
    "<h1 id=\"inspecting_data\"\n",
    "    style=\"font-size:20px; font-weight:bold; margin-top: 10px;\">\n",
    "    2.2 Inspecting Data\n",
    "    <a class=\"anchor-link\"\n",
    "       href=\"#inspecting_data\"\n",
    "       target=\"_self\"\n",
    "       rel=\"noopener noreferrer\">\n",
    "    </a>\n",
    "    <hr style=\"border: none; border-top: 3px solid; margin-top: 10px;\">\n",
    "</h1>"
   ]
  },
  {
   "cell_type": "code",
   "execution_count": 2,
   "id": "91fbc160",
   "metadata": {},
   "outputs": [
    {
     "data": {
      "text/html": [
       "<div>\n",
       "<style scoped>\n",
       "    .dataframe tbody tr th:only-of-type {\n",
       "        vertical-align: middle;\n",
       "    }\n",
       "\n",
       "    .dataframe tbody tr th {\n",
       "        vertical-align: top;\n",
       "    }\n",
       "\n",
       "    .dataframe thead th {\n",
       "        text-align: right;\n",
       "    }\n",
       "</style>\n",
       "<table border=\"1\" class=\"dataframe\">\n",
       "  <thead>\n",
       "    <tr style=\"text-align: right;\">\n",
       "      <th></th>\n",
       "      <th>sepal length (cm)</th>\n",
       "      <th>sepal width (cm)</th>\n",
       "      <th>petal length (cm)</th>\n",
       "      <th>petal width (cm)</th>\n",
       "      <th>target</th>\n",
       "    </tr>\n",
       "  </thead>\n",
       "  <tbody>\n",
       "    <tr>\n",
       "      <th>0</th>\n",
       "      <td>5.1</td>\n",
       "      <td>3.5</td>\n",
       "      <td>1.4</td>\n",
       "      <td>0.2</td>\n",
       "      <td>0</td>\n",
       "    </tr>\n",
       "    <tr>\n",
       "      <th>1</th>\n",
       "      <td>4.9</td>\n",
       "      <td>3.0</td>\n",
       "      <td>1.4</td>\n",
       "      <td>0.2</td>\n",
       "      <td>0</td>\n",
       "    </tr>\n",
       "    <tr>\n",
       "      <th>2</th>\n",
       "      <td>4.7</td>\n",
       "      <td>3.2</td>\n",
       "      <td>1.3</td>\n",
       "      <td>0.2</td>\n",
       "      <td>0</td>\n",
       "    </tr>\n",
       "    <tr>\n",
       "      <th>3</th>\n",
       "      <td>4.6</td>\n",
       "      <td>3.1</td>\n",
       "      <td>1.5</td>\n",
       "      <td>0.2</td>\n",
       "      <td>0</td>\n",
       "    </tr>\n",
       "    <tr>\n",
       "      <th>4</th>\n",
       "      <td>5.0</td>\n",
       "      <td>3.6</td>\n",
       "      <td>1.4</td>\n",
       "      <td>0.2</td>\n",
       "      <td>0</td>\n",
       "    </tr>\n",
       "  </tbody>\n",
       "</table>\n",
       "</div>"
      ],
      "text/plain": [
       "   sepal length (cm)  sepal width (cm)  petal length (cm)  petal width (cm)  \\\n",
       "0                5.1               3.5                1.4               0.2   \n",
       "1                4.9               3.0                1.4               0.2   \n",
       "2                4.7               3.2                1.3               0.2   \n",
       "3                4.6               3.1                1.5               0.2   \n",
       "4                5.0               3.6                1.4               0.2   \n",
       "\n",
       "   target  \n",
       "0       0  \n",
       "1       0  \n",
       "2       0  \n",
       "3       0  \n",
       "4       0  "
      ]
     },
     "execution_count": 2,
     "metadata": {},
     "output_type": "execute_result"
    }
   ],
   "source": [
    "\n",
    "# Load Iris dataset into a DataFrame\n",
    "iris = load_iris()\n",
    "df = pd.DataFrame(iris.data, columns=iris.feature_names)\n",
    "df['target'] = iris.target\n",
    "\n",
    "# Display the first 5 rows\n",
    "df.head()"
   ]
  },
  {
   "cell_type": "markdown",
   "id": "05da1d52",
   "metadata": {},
   "source": [
    "The code above:\n",
    "- Loads the Iris dataset from scikit-learn.\n",
    "- Converts it into a DataFrame with feature names and target.\n",
    "- Displays the first five rows of the DataFrame."
   ]
  },
  {
   "cell_type": "markdown",
   "id": "fe27f314",
   "metadata": {},
   "source": [
    "<h1 id=\"exploratory_visualization\" style=\"font-size:22px; background-color: #E6E6E6; color: black; height: 50px; line-height: 50px;  padding-left: 14px;\">3. Exploratory Visualization</h1>"
   ]
  },
  {
   "cell_type": "markdown",
   "id": "40e06db9",
   "metadata": {},
   "source": [
    "We create a simple scatter plot of two features to visualize class separation."
   ]
  },
  {
   "cell_type": "code",
   "execution_count": 3,
   "id": "10da7ef5",
   "metadata": {},
   "outputs": [
    {
     "data": {
      "image/png": "[encoded data removed]",
      "text/plain": [
       "<Figure size 640x480 with 1 Axes>"
      ]
     },
     "metadata": {},
     "output_type": "display_data"
    }
   ],
   "source": [
    "# Scatter plot of sepal length vs. sepal width\n",
    "plt.scatter(df['sepal length (cm)'], df['sepal width (cm)'], c=df['target'])\n",
    "plt.xlabel('Sepal Length (cm)')\n",
    "plt.ylabel('Sepal Width (cm)')\n",
    "plt.title('Sepal Length vs. Sepal Width')\n",
    "plt.show()"
   ]
  },
  {
   "cell_type": "markdown",
   "id": "0efdb55c",
   "metadata": {},
   "source": [
    "The scatter plot shows the relationship between sepal length and width, colored by species."
   ]
  },
  {
   "cell_type": "markdown",
   "id": "4d0715c1",
   "metadata": {},
   "source": [
    "<h1 id=\"minimal_working_ml_example\" style=\"font-size:22px; background-color: #E6E6E6; color: black; height: 50px; line-height: 50px;  padding-left: 14px;\">4. Minimal Working ML Example</h1>"
   ]
  },
  {
   "cell_type": "markdown",
   "id": "b3a824fd",
   "metadata": {},
   "source": [
    "We'll split the data into training and testing sets (via the function `train_test_split`), train a Logistic Regression classifier, and evaluate its performance."
   ]
  },
  {
   "cell_type": "code",
   "execution_count": 4,
   "id": "3c08871e",
   "metadata": {},
   "outputs": [
    {
     "name": "stdout",
     "output_type": "stream",
     "text": [
      "Accuracy: 0.9666666666666667\n",
      "              precision    recall  f1-score   support\n",
      "\n",
      "           0       1.00      1.00      1.00         7\n",
      "           1       0.93      1.00      0.97        14\n",
      "           2       1.00      0.89      0.94         9\n",
      "\n",
      "    accuracy                           0.97        30\n",
      "   macro avg       0.98      0.96      0.97        30\n",
      "weighted avg       0.97      0.97      0.97        30\n",
      "\n"
     ]
    }
   ],
   "source": [
    "from sklearn.model_selection import train_test_split\n",
    "from sklearn.linear_model import LogisticRegression\n",
    "from sklearn.metrics import classification_report, accuracy_score\n",
    "\n",
    "# Prepare features and target\n",
    "X = df[iris.feature_names]\n",
    "y = df['target']\n",
    "\n",
    "# Split into train/test sets\n",
    "X_train, X_test, y_train, y_test = train_test_split(X, y, test_size=0.2, random_state=1729)\n",
    "\n",
    "# Train a Logistic Regression model\n",
    "model = LogisticRegression(max_iter=200)\n",
    "model.fit(X_train, y_train)\n",
    "\n",
    "# Evaluate model\n",
    "y_pred = model.predict(X_test)\n",
    "print('Accuracy:', accuracy_score(y_test, y_pred))\n",
    "print(classification_report(y_test, y_pred))"
   ]
  },
  {
   "cell_type": "markdown",
   "id": "31f6236c",
   "metadata": {},
   "source": [
    "We chose Logistic Regression for its simplicity.\n",
    "The accuracy and classification report above summarize the model's performance."
   ]
  },
  {
   "cell_type": "markdown",
   "id": "d9d213e8",
   "metadata": {},
   "source": [
    "<div style=\"background: #e7f3fe; border-left: 5px solid #2196F3; padding-left: 10px; padding-bottom: 1px; padding-top: 6px;\">\n",
    "<p style=\"font-weight: bold\"><b>Note</b></p>\n",
    "<p style=\"margin-bottom: 10px;\">\n",
    "\n",
    "This template is designed to be minimal yet extensible for more advanced analyses.\n",
    "\n",
    "Just another line of text.\n",
    "</p>\n",
    "</div>"
   ]
  },
  {
   "cell_type": "markdown",
   "id": "e13508c5",
   "metadata": {},
   "source": [
    "<div style=\"background-color: #d5ffd9; border-left: 5px solid #569253; padding-left: 10px; padding-bottom: 1px; padding-top: 6px;\">\n",
    "    <b>Advantages</b>\n",
    "    <ul style=\"list-style-type: square;\">\n",
    "        <li style=\"margin-bottom: 14px\"><u>Bullet Point 1</u>:<br>\n",
    "        Clean, HTML-styled header and navigation.</li>\n",
    "        <li style=\"margin-bottom: 14px\"><u>Bullet Point 2</u>:<br>\n",
    "        Clear separation of sections for readability.</li>\n",
    "        <li style=\"margin-bottom: 14px\"><u>Bullet Point 3</u>:<br>\n",
    "        Easy to extend with additional analyses.</li>\n",
    "    </ul>\n",
    "</div>"
   ]
  },
  {
   "cell_type": "markdown",
   "id": "4d6bab0f",
   "metadata": {},
   "source": [
    "<div style=\"background-color: #ffd8d8; border-left: 5px solid #925653; padding-left: 10px; padding-bottom: 1px; padding-top: 6px;\">\n",
    "    <b>Disadvantages</b>\n",
    "    <ul style=\"list-style-type: square;\">\n",
    "        <li style=\"margin-bottom: 14px\"><u>Bullet Point 1</u>:<br>\n",
    "        Clean, HTML-styled header and navigation.</li>\n",
    "        <li style=\"margin-bottom: 14px\"><u>Bullet Point 2</u>:<br>\n",
    "        Clear separation of sections for readability.</li>\n",
    "        <li style=\"margin-bottom: 14px\"><u>Bullet Point 3</u>:<br>\n",
    "        Easy to extend with additional analyses.</li>\n",
    "    </ul>\n",
    "</div>"
   ]
  },
  {
   "cell_type": "markdown",
   "id": "95fadb50",
   "metadata": {},
   "source": [
    "<h1 id=\"how_to_examples\" style=\"font-size:22px; background-color: #E6E6E6; color: black; height: 50px; line-height: 50px;  padding-left: 14px;\">5. How-To Examples</h1>"
   ]
  },
  {
   "cell_type": "markdown",
   "id": "3024eac5",
   "metadata": {},
   "source": [
    "- [Go to Model Training](#minimal_working_ml_example)\n",
    "- For more examples, refer to the scikit-learn documentation."
   ]
  },
  {
   "cell_type": "markdown",
   "id": "753cfda0",
   "metadata": {},
   "source": [
    "<h1 id=\"external_resources\" style=\"font-size:22px; background-color: #E6E6E6; color: black; height: 50px; line-height: 50px;  padding-left: 14px;\">6. External Resources</h1>"
   ]
  },
  {
   "cell_type": "markdown",
   "id": "2735d51f",
   "metadata": {},
   "source": [
    "Further reading: [Scikit-learn Iris dataset documentation](https://scikit-learn.org/stable/modules/generated/sklearn.datasets/load_iris.html)"
   ]
  }
 ],
 "metadata": {
  "kernelspec": {
   "display_name": "Python 3",
   "language": "python",
   "name": "python3"
  },
  "language_info": {
   "codemirror_mode": {
    "name": "ipython",
    "version": 3
   },
   "file_extension": ".py",
   "mimetype": "text/x-python",
   "name": "python",
   "nbconvert_exporter": "python",
   "pygments_lexer": "ipython3",
   "version": "3.13.1"
  }
 },
 "nbformat": 4,
 "nbformat_minor": 5
}
