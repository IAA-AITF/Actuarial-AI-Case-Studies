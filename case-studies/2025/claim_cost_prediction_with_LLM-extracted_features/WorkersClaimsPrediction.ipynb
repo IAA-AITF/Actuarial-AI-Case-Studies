{
 "cells": [
  {
   "cell_type": "markdown",
   "metadata": {},
   "source": [
    "<p style=\"font-size:19px; text-align:left;\"><i>Advanced Applications of Generative AI in Actuarial Science: Case Studies Beyond ChatGPT</i></p>\n",
    "<p style=\"font-size:25px; text-align:left; font-weight:bold;\">Case Study: Improving Claim Cost Prediction\n",
    "with LLM-Extracted Features from Unstructured Data</p>\n",
    "<p style=\"font-size:19px; text-align:left; margin-top: -10px; margin-bottom: 15px;\">Simon Hatzesberger (<a href=\"mailto:simon.hatzesberger@gmail.com\">simon.hatzesberger@gmail.com</a>), Iris Nonneman (<a href=\"mailto:irisnonneman@gmail.com\">irisnonneman@gmail.com</a>)\n",
    "<p style=\"font-style:italic; font-size: 19px\">Date: June 15, 2025</p>"
   ]
  },
  {
   "cell_type": "markdown",
   "metadata": {},
   "source": [
    "\n",
    "This notebook demonstrates how to leverage Large Language Models (LLMs) to extract structured information from unstructured insurance claim descriptions, focusing on identifying injured body parts and cause of injury.\n",
    "We show how this additional information from claim text can be transformed to meaningful features to improve claim cost prediction.\n",
    "In doing so we will use a data set consisting of information regarding workers claim compensation.  \n"
   ]
  },
  {
   "cell_type": "markdown",
   "metadata": {},
   "source": [
    "\n",
    "\n",
    "1. **Data Preparation**:\n",
    "    - Load and inspect the dataset.\n",
    "    - Handle missing values.\n",
    "    - Convert categorical variables into numerical format using one-hot encoding.\n",
    "    - Extract and engineer features from date columns.\n",
    "\n",
    "2. **Feature Engineering**:\n",
    "    - Extract meaningful features from the 'ClaimDescription' text, such as the number of body parts injured, main body part injured, and cause of injury.\n",
    "    - Categorize the body parts and causes of injury into predefined categories using regular expressions.\n",
    "    - Create new features based on the date and time of the accident and the date reported.\n",
    "\n",
    "3. **Target Variable Transformation**:\n",
    "    - Apply log transformation to the target variable 'UltimateIncurredClaimCost' to handle skewness in the data distribution.\n",
    "\n",
    "4. **Model Training and Evaluation**:\n",
    "    - Split the data into a training and testing set.\n",
    "    - Train a Gradient Boosting Regressor model using the training data.\n",
    "    - Evaluate the model performance using metrics such as RMSE, MAE, and R2 score.\n",
    "    - Compare the performance of models trained on baseline features and enhanced features (including text-derived features).\n",
    "\n",
    "5. **Feature Importance Analysis**:\n",
    "    - Analyze the importance of different features in predicting the target variable.\n",
    "    - Visualize the feature importance to understand which features contribute the most to the model's predictions.\n",
    "\n",
    "6. **Model Comparison**:\n",
    "    - Compare the performance of the baseline model and the enhanced model.\n",
    "    - Conduct statistical tests to determine the significance of the performance differences.\n",
    "\n",
    "7. **Appendix: Hyperparameter tuning with grid search**:\n",
    "    - Perform cross-validation to ensure the model's robustness.\n",
    "    - Tune hyperparameters of the Gradient Boosting Regressor to find the best model configuration.\n",
    "\n",
    "By following these steps, we aim to build a robust predictive model for estimating the claim costs, leveraging both structured data and insights extracted from unstructured text descriptions."
   ]
  },
  {
   "cell_type": "markdown",
   "metadata": {},
   "source": [
    "<h1 style=\"font-size:22px; background-color: #E6E6E6; color: black; height: 50px; line-height: 50px; padding-left: 14px;\">Table of Contents</h1>"
   ]
  },
  {
   "cell_type": "markdown",
   "metadata": {},
   "source": [
    "[Setup and Configuration](#setup_and_configuration)\n",
    "\n",
    "[Stage 1: Extracting features with LLM](#stage_1_llm)\n",
    "\n",
    "[Stage 2: Data Preprocessing](#stage_2_extracting)\n",
    "\n",
    "[Stage 3: Categorizing LLM extracted content](#stage_3_categorizing)\n",
    "\n",
    "[Stage 4: Model development & Validation](#stage_4_model)\n",
    "\n",
    "[Appendix: Hyperparameter optimization with grid search](#appendix_grid)"
   ]
  },
  {
   "cell_type": "markdown",
   "metadata": {},
   "source": [
    "<h1 id=\"setup_and_configuration\" style=\"font-size:22px; background-color: #E6E6E6; color: black; height: 50px; line-height: 50px;  padding-left: 14px;\">Setup and Configuration</h1>\n"
   ]
  },
  {
   "cell_type": "markdown",
   "metadata": {},
   "source": [
    "This section focuses on importing required libraries and establishing configurations for data processing, API integration, and modelling."
   ]
  },
  {
   "cell_type": "markdown",
   "metadata": {},
   "source": [
    "First, we import the required libraries to ensure all tools are available for subsequent data processing."
   ]
  },
  {
   "cell_type": "code",
   "execution_count": null,
   "metadata": {},
   "outputs": [],
   "source": [
    "#Data manipulation and visualization libraries\n",
    "import pandas as pd\n",
    "import numpy as np\n",
    "import matplotlib.pyplot as plt\n",
    " \n",
    "# Data preprocessing and string manipulation\n",
    "import re\n",
    " \n",
    "# Model training and pipeline management\n",
    "from sklearn.model_selection import train_test_split\n",
    "from sklearn.pipeline import Pipeline\n",
    " \n",
    "# Machine learning models\n",
    "from sklearn.ensemble import GradientBoostingRegressor\n",
    " \n",
    "# Model evaluation metrics\n",
    "from sklearn.metrics import mean_squared_error, mean_absolute_error, r2_score\n",
    " \n",
    "# Cross-validation and hyperparameter tuning\n",
    "from sklearn.model_selection import KFold, GridSearchCV\n",
    " \n",
    "# Statistical analysis and functions\n",
    "from scipy import stats"
   ]
  },
  {
   "cell_type": "markdown",
   "metadata": {},
   "source": [
    "<h1 id=\"stage_1_llm\" style=\"font-size:22px; background-color: #E6E6E6; color: black; height: 50px; line-height: 50px;  padding-left: 14px;\">Stage 1: Extracting features with LLM</h1>"
   ]
  },
  {
   "cell_type": "markdown",
   "metadata": {},
   "source": [
    "For this case study, we use a dataset of 3,000 workers' compensation claims from a [Kaggle competition on actuarial loss estimation](https://www.kaggle.com/competitions/actuarial-loss-estimation). This dataset is fully synthetic – constructed as a stratified sample from a larger pool of 90,000 realistically simulated records – and includes both structured features (e.g., age, gender, marital status, wages) and unstructured text descriptions of the claim reports."
   ]
  },
  {
   "cell_type": "markdown",
   "metadata": {},
   "source": [
    "In a previous notebook, we have run the following code to extract information on claim injury and cause of injury, using OpenAI model gpt-4o-mini."
   ]
  },
  {
   "cell_type": "code",
   "execution_count": 7,
   "metadata": {},
   "outputs": [],
   "source": [
    "%%script true\n",
    "open_api_key = \"addyourkeyhere\""
   ]
  },
  {
   "cell_type": "code",
   "execution_count": 8,
   "metadata": {},
   "outputs": [],
   "source": [
    "%%script true\n",
    "# OpenAI-Client for communication with openai\n",
    "#client = OpenAI(api_key=openai_api_key)\n",
    "# Chosing model\n",
    "MODEL = \"gpt-4o-mini\"  "
   ]
  },
  {
   "cell_type": "code",
   "execution_count": 9,
   "metadata": {},
   "outputs": [],
   "source": [
    "%%script true\n",
    "system_prompt_adjusted = '''\n",
    "Your task is to extract structured information about injuries and cause of injury from the given text.  \n",
    "Follow this schema strictly:\n",
    "\n",
    "- number_of_body_parts_injured: The total count of injured body parts.  \n",
    "- main_body_part_injured: The primary body part affected, described concisely (e.g., \"HEAD\", \"THUMB\").  \n",
    "- cause_of_injury: Specify by verb. \n",
    "    - If verb given: return only the primary action verb that directly caused the injury (e.g. \"fall\" not \"fell from box\")\n",
    "    - If cause is not mentioned, infer from context if possible, otherwise return \"unspecified\".\n",
    "\n",
    "Ensure accuracy and consistency in the extracted details. Do not add interpretations beyond the provided text.\n",
    "'''\n",
    "\n",
    "\n",
    "class AdditionalInformation(BaseModel):\n",
    "    number_of_body_parts_injured: int\n",
    "    main_body_part_injured: str\n",
    "    cause_of_injury: str\n",
    "\n",
    "\n",
    "def parse_info(completion_data):\n",
    "    \"\"\"\n",
    "    Parse injury information from completion.choices[0].message.parsed\n",
    "    \n",
    "    Args:\n",
    "        completion_data: The parsed message data from completion.choices\n",
    "    \n",
    "    Returns:\n",
    "        tuple: (number_of_body_parts, body_part, side)\n",
    "    \"\"\"\n",
    "    parsed = completion_data.choices[0].message.parsed\n",
    "    \n",
    "    # Extract values directly from the parsed object\n",
    "    num_parts = parsed.number_of_body_parts_injured\n",
    "    body_part = parsed.main_body_part_injured\n",
    "    cause= parsed.cause_of_injury # Assuming this gets the LEFT/RIGHT value\n",
    "    \n",
    "    return num_parts, body_part, cause\n",
    "\n",
    "def extract_additional_information(text: str):\n",
    "    completion = client.beta.chat.completions.parse(\n",
    "        model=MODEL,\n",
    "        messages=[\n",
    "            {\"role\": \"system\", \"content\": system_prompt_adjusted},\n",
    "            {\"role\": \"user\", \"content\": text}\n",
    "        ],\n",
    "        response_format=AdditionalInformation,\n",
    "    )\n",
    "    result = parse_info(completion)\n",
    "    return result"
   ]
  },
  {
   "cell_type": "markdown",
   "metadata": {},
   "source": [
    "<h1 id=\"stage_2_preprocessing\" style=\"font-size:22px; background-color: #E6E6E6; color: black; height: 50px; line-height: 50px;  padding-left: 14px;\">Stage 2: Data preprocessing</h1>"
   ]
  },
  {
   "cell_type": "markdown",
   "metadata": {},
   "source": [
    "We load the data set which we have already prepared previously.\n",
    "This data set consists of 3000 claims."
   ]
  },
  {
   "cell_type": "code",
   "execution_count": 10,
   "metadata": {},
   "outputs": [],
   "source": [
    "df_all=pd.read_csv('./ClaimsdatawithPrompts.csv')"
   ]
  },
  {
   "cell_type": "markdown",
   "metadata": {},
   "source": [
    "The data consists of 3000 claims which we sampled from a total set of 90 000 workers compensation claims. The total set of features consist of:\n",
    "\n",
    "- 'ClaimNumber’ – Unique policy identifier.\n",
    "- ‘DateTimeOfAccident’ – Date and time of accident.\n",
    "- ‘DateReported’ – Date that accident was reported.\n",
    "- ‘Age’ – Age of worker.\n",
    "- ‘Gender’ – Gender of worker.\n",
    "- ‘MaritalStatus’ – Martial status of worker. (M)arried, (S)ingle, (U)nknown.\n",
    "- ‘DependentChildren’ – The number of dependent children.\n",
    "- ‘DependentsOther’ – The number of dependants excluding children.\n",
    "- ‘WeeklyWages’ – Total weekly wage.\n",
    "- ‘PartTimeFullTime’ – Binary (P) or (F).\n",
    "- ‘HoursWorkedPerWeek’ – Total hours worked per week.\n",
    "- ‘DaysWorkedPerWeek’ – Number of days worked per week.\n",
    "- ‘ClaimDescription’ – Free text description of the claim.\n",
    "- ‘InitialIncurredClaimCost’ – Initial estimate by the insurer of the claim cost.\n",
    "- ‘UltimateIncurredClaimCost’ – Total claims payments by the insurance company. \n",
    "    This is the field you are asked to predict in the test set.\n"
   ]
  },
  {
   "cell_type": "markdown",
   "metadata": {},
   "source": [
    "We have done some preliminary data cleaning already, like setting outliers losses above 4 million equal to 1 million."
   ]
  },
  {
   "cell_type": "code",
   "execution_count": 11,
   "metadata": {},
   "outputs": [
    {
     "data": {
      "image/png": "[encoded data removed]",
      "text/plain": [
       "<Figure size 640x480 with 1 Axes>"
      ]
     },
     "metadata": {},
     "output_type": "display_data"
    }
   ],
   "source": [
    "plt.hist(df_all['UltimateIncurredClaimCost'], bins=50, label='claim costs')\n",
    "plt.show()"
   ]
  },
  {
   "cell_type": "markdown",
   "metadata": {},
   "source": [
    "Besides our previous cleaning, we also transform the target variable with a log transformation, as the distribution is skewed."
   ]
  },
  {
   "cell_type": "code",
   "execution_count": 12,
   "metadata": {},
   "outputs": [
    {
     "data": {
      "image/png": "[encoded data removed]",
      "text/plain": [
       "<Figure size 640x480 with 1 Axes>"
      ]
     },
     "metadata": {},
     "output_type": "display_data"
    }
   ],
   "source": [
    "# Apply log transformation to the data\n",
    "df_all['Log_UltimateIncurredClaimCost']= np.log(df_all['UltimateIncurredClaimCost'])\n",
    "\n",
    "# Plot the original data and the log-transformed data\n",
    "plt.hist(df_all['Log_UltimateIncurredClaimCost'], bins=50, label='Log-Transformed claim costs')\n",
    "plt.legend()\n",
    "plt.show()"
   ]
  },
  {
   "cell_type": "markdown",
   "metadata": {},
   "source": [
    "### Preparing the features"
   ]
  },
  {
   "cell_type": "markdown",
   "metadata": {},
   "source": [
    "To prepare features, we analyze and prepare features like date and categorical features such as gender and marital status. Specifically, we handle missing values, convert categorical variables into numerical format using one-hot encoding, and extract and engineer features from date columns."
   ]
  },
  {
   "cell_type": "code",
   "execution_count": 13,
   "metadata": {},
   "outputs": [
    {
     "data": {
      "text/plain": [
       "ClaimNumber                      0\n",
       "DateTimeOfAccident               0\n",
       "DateReported                     0\n",
       "Age                              0\n",
       "Gender                           0\n",
       "MaritalStatus                    2\n",
       "DependentChildren                0\n",
       "DependentsOther                  0\n",
       "WeeklyWages                      0\n",
       "PartTimeFullTime                 0\n",
       "HoursWorkedPerWeek               0\n",
       "DaysWorkedPerWeek                0\n",
       "ClaimDescription                 0\n",
       "InitialIncurredCalimsCost        0\n",
       "UltimateIncurredClaimCost        0\n",
       "number_of_body_parts_injured     0\n",
       "main_body_part_injured           0\n",
       "cause_of_injury                  0\n",
       "Log_UltimateIncurredClaimCost    0\n",
       "dtype: int64"
      ]
     },
     "execution_count": 13,
     "metadata": {},
     "output_type": "execute_result"
    }
   ],
   "source": [
    "# We first start with missing value imputation\n",
    "df_all.isnull().sum()"
   ]
  },
  {
   "cell_type": "code",
   "execution_count": 14,
   "metadata": {},
   "outputs": [
    {
     "data": {
      "text/html": [
       "<div>\n",
       "<style scoped>\n",
       "    .dataframe tbody tr th:only-of-type {\n",
       "        vertical-align: middle;\n",
       "    }\n",
       "\n",
       "    .dataframe tbody tr th {\n",
       "        vertical-align: top;\n",
       "    }\n",
       "\n",
       "    .dataframe thead th {\n",
       "        text-align: right;\n",
       "    }\n",
       "</style>\n",
       "<table border=\"1\" class=\"dataframe\">\n",
       "  <thead>\n",
       "    <tr style=\"text-align: right;\">\n",
       "      <th></th>\n",
       "      <th>mean</th>\n",
       "      <th>median</th>\n",
       "      <th>count</th>\n",
       "      <th>std</th>\n",
       "    </tr>\n",
       "    <tr>\n",
       "      <th>MaritalStatus</th>\n",
       "      <th></th>\n",
       "      <th></th>\n",
       "      <th></th>\n",
       "      <th></th>\n",
       "    </tr>\n",
       "  </thead>\n",
       "  <tbody>\n",
       "    <tr>\n",
       "      <th>M</th>\n",
       "      <td>12386.051069</td>\n",
       "      <td>4723.379658</td>\n",
       "      <td>1283</td>\n",
       "      <td>28899.614979</td>\n",
       "    </tr>\n",
       "    <tr>\n",
       "      <th>S</th>\n",
       "      <td>7625.593400</td>\n",
       "      <td>2436.555121</td>\n",
       "      <td>1417</td>\n",
       "      <td>19121.355793</td>\n",
       "    </tr>\n",
       "    <tr>\n",
       "      <th>U</th>\n",
       "      <td>17952.905272</td>\n",
       "      <td>5893.142513</td>\n",
       "      <td>298</td>\n",
       "      <td>36990.103642</td>\n",
       "    </tr>\n",
       "  </tbody>\n",
       "</table>\n",
       "</div>"
      ],
      "text/plain": [
       "                       mean       median  count           std\n",
       "MaritalStatus                                                \n",
       "M              12386.051069  4723.379658   1283  28899.614979\n",
       "S               7625.593400  2436.555121   1417  19121.355793\n",
       "U              17952.905272  5893.142513    298  36990.103642"
      ]
     },
     "execution_count": 14,
     "metadata": {},
     "output_type": "execute_result"
    }
   ],
   "source": [
    "df_all.groupby(df_all['MaritalStatus'])['UltimateIncurredClaimCost'].agg(['mean','median','count', 'std'])"
   ]
  },
  {
   "cell_type": "code",
   "execution_count": 15,
   "metadata": {},
   "outputs": [
    {
     "data": {
      "text/plain": [
       "mean      3482.601382\n",
       "median    3482.601382\n",
       "count        2.000000\n",
       "std       3290.078422\n",
       "Name: UltimateIncurredClaimCost, dtype: float64"
      ]
     },
     "execution_count": 15,
     "metadata": {},
     "output_type": "execute_result"
    }
   ],
   "source": [
    "df_all[df_all['MaritalStatus'].isnull()]['UltimateIncurredClaimCost'].agg(['mean','median','count', 'std'])"
   ]
  },
  {
   "cell_type": "markdown",
   "metadata": {},
   "source": [
    "For missing values of marital status, we choose to impute these with S of Single, since the target variable distribution among Single individuals is most similar to the target variable distribution among cases with missing marital status."
   ]
  },
  {
   "cell_type": "code",
   "execution_count": 16,
   "metadata": {},
   "outputs": [],
   "source": [
    "#Replacing missing values with S of Single\n",
    "df_all['MaritalStatus']=df_all['MaritalStatus'].fillna('S')"
   ]
  },
  {
   "cell_type": "markdown",
   "metadata": {},
   "source": [
    "We adjust the categorical columns, creating one-hot encoded variables."
   ]
  },
  {
   "cell_type": "code",
   "execution_count": null,
   "metadata": {},
   "outputs": [],
   "source": [
    "df_all = df_all.join( pd.get_dummies(df_all[['MaritalStatus', 'Gender', 'PartTimeFullTime']], dtype=int))\n",
    "df_all.drop(['Gender_F','MaritalStatus_U','PartTimeFullTime_P', 'Gender', 'MaritalStatus', 'PartTimeFullTime'],axis=1,inplace=True)"
   ]
  },
  {
   "cell_type": "markdown",
   "metadata": {},
   "source": [
    "We also set columns containing date to the right format."
   ]
  },
  {
   "cell_type": "code",
   "execution_count": null,
   "metadata": {},
   "outputs": [],
   "source": [
    "df_all['DateTimeOfAccident']=pd.to_datetime(df_all['DateTimeOfAccident'])\n",
    "df_all['DateReported']=pd.to_datetime(df_all['DateReported'])\n",
    "\n",
    "df_all['Rep_Acc_Diff']=df_all['DateReported']-df_all['DateTimeOfAccident']\n",
    "df_all['Rep_Acc_Diff']=df_all['Rep_Acc_Diff'].apply(lambda x:str(x)[:2])\n",
    "df_all['Rep_Acc_Diff']=df_all['Rep_Acc_Diff'].astype('int')\n",
    "\n",
    "df_all['Accident_Month']=df_all['DateTimeOfAccident'].dt.month\n",
    "df_all['Accident_Year']=df_all['DateTimeOfAccident'].dt.year\n",
    "df_all['Accident_Day']=df_all['DateTimeOfAccident'].dt.day\n",
    "df_all['Accident_Hour']=df_all['DateTimeOfAccident'].dt.hour\n",
    "\n",
    "\n",
    "df_all['Reported_Month']=df_all['DateReported'].dt.month\n",
    "df_all['Reported_Year']=df_all['DateReported'].dt.year\n",
    "df_all['Reported_Day']=df_all['DateReported'].dt.day"
   ]
  },
  {
   "cell_type": "markdown",
   "metadata": {},
   "source": [
    "<h1 id=\"stage_3_categorizing\" style=\"font-size:22px; background-color: #E6E6E6; color: black; height: 50px; line-height: 50px;  padding-left: 14px;\">Stage 3: Categorizing LLM extracted content</h1>"
   ]
  },
  {
   "cell_type": "markdown",
   "metadata": {},
   "source": [
    "In this section we categorize the extracted features from the LLM into predefined categories for both the cause of injury and the injured body part.\n",
    "We define functions to map the extracted text to these categories using regular expressions. \n",
    "Finally, we apply these functions to the dataset to create new categorical columns `body_part_category` and `cause_of_injury_category`.\n",
    "Note that one could also apply entity embedding to create relevant categorical columns."
   ]
  },
  {
   "cell_type": "code",
   "execution_count": 19,
   "metadata": {},
   "outputs": [
    {
     "data": {
      "text/html": [
       "<div>\n",
       "<style scoped>\n",
       "    .dataframe tbody tr th:only-of-type {\n",
       "        vertical-align: middle;\n",
       "    }\n",
       "\n",
       "    .dataframe tbody tr th {\n",
       "        vertical-align: top;\n",
       "    }\n",
       "\n",
       "    .dataframe thead th {\n",
       "        text-align: right;\n",
       "    }\n",
       "</style>\n",
       "<table border=\"1\" class=\"dataframe\">\n",
       "  <thead>\n",
       "    <tr style=\"text-align: right;\">\n",
       "      <th></th>\n",
       "      <th>number_of_body_parts_injured</th>\n",
       "      <th>main_body_part_injured</th>\n",
       "      <th>cause_of_injury</th>\n",
       "    </tr>\n",
       "  </thead>\n",
       "  <tbody>\n",
       "    <tr>\n",
       "      <th>0</th>\n",
       "      <td>1</td>\n",
       "      <td>LOWER BACK</td>\n",
       "      <td>strain</td>\n",
       "    </tr>\n",
       "    <tr>\n",
       "      <th>1</th>\n",
       "      <td>2</td>\n",
       "      <td>ELBOW</td>\n",
       "      <td>kneel</td>\n",
       "    </tr>\n",
       "    <tr>\n",
       "      <th>2</th>\n",
       "      <td>1</td>\n",
       "      <td>LEFT MIDDLE FINGER</td>\n",
       "      <td>caught</td>\n",
       "    </tr>\n",
       "    <tr>\n",
       "      <th>3</th>\n",
       "      <td>2</td>\n",
       "      <td>HAND</td>\n",
       "      <td>lacerate</td>\n",
       "    </tr>\n",
       "    <tr>\n",
       "      <th>4</th>\n",
       "      <td>1</td>\n",
       "      <td>RIGHT LOWER LEG</td>\n",
       "      <td>lacerate</td>\n",
       "    </tr>\n",
       "  </tbody>\n",
       "</table>\n",
       "</div>"
      ],
      "text/plain": [
       "   number_of_body_parts_injured main_body_part_injured cause_of_injury\n",
       "0                             1             LOWER BACK          strain\n",
       "1                             2                  ELBOW           kneel\n",
       "2                             1     LEFT MIDDLE FINGER          caught\n",
       "3                             2                   HAND        lacerate\n",
       "4                             1        RIGHT LOWER LEG        lacerate"
      ]
     },
     "execution_count": 19,
     "metadata": {},
     "output_type": "execute_result"
    }
   ],
   "source": [
    "df_all[['number_of_body_parts_injured', 'main_body_part_injured','cause_of_injury']].head()"
   ]
  },
  {
   "cell_type": "code",
   "execution_count": 20,
   "metadata": {},
   "outputs": [],
   "source": [
    "\n",
    "def get_injury_cause_category(cause: str) -> str:\n",
    "    \"\"\"\n",
    "    Returns the category for a given injury cause string.\n",
    "    \n",
    "    Args:\n",
    "        cause: String describing the cause of injury\n",
    "        \n",
    "    Returns:\n",
    "        String representing the injury cause category\n",
    "    \"\"\"\n",
    "    if not cause or pd.isna(cause):\n",
    "        return 'UNSPECIFIED'\n",
    "    \n",
    "    \n",
    "    \n",
    "    \n",
    "    categories = {\n",
    "    'LIFTING_CARRYING': r'(lift|lifting|carry|carrying|stack|stacking|hold|holding|unload|unloading|loading|transfer|move|moving|moved|push|pushing|pushed|pull|pulling|shovelling)',\n",
    "    'IMPACT': r'(hit|struck|STRUCK|strike|thrown|flew|flying off|bang|collision|collide|collided|crash|knock|knocked over|bump|slam|slammed|puncture|burst|blew|blown|kick|kicked|kick back)',\n",
    "    'FALL_SLIP_TRIP': r'(fall|fell|slip|slipped|trip|stumble|slide|sliding|drop|dropped|getting down|getting off|step out|stepping off|collapse|rolled|roll|gave way|landed)',\n",
    "    'STRAIN_SPRAIN': r'(strain|strained|sprain|sprained|twist|twisted|twisting|bend|bend over|bending|overreach|overuse|overworking|repetitive strain|repetitive work|repetitive|stretch|wrench|kneel|kneeling)',\n",
    "    'LACERATION': r'(cut|cutting|lacerate|lacerated|laceration|slice|slicing|grind|grinding|penetrate|penetrating|scrape|scratch|abrasion|shear|shearing|stab|pierced|punching)',\n",
    "    'CHEMICAL_BURN': r'(burn|flash|splash|splashed|spill|spilled|spray|sprayed|welding|weld|boil|ignite|spark|rust|irritate|irritation)',\n",
    "    'COMPRESSION': r'(caught|catching|jam|crush|crushed|pinched|pinned|squash|trap|lodged)',\n",
    "    'CONTACT': r'(contact|shock|bite|bitten|sting|electrocute|attacked|assault|struck|stick|foreign body)',\n",
    "    'ERGONOMIC': r'(use|using|deal|dealing|replace|operate|perform|typing|SEWING|work|assist|assisting|help|handling|packing|install|disconnect|cleaning|sweeping|sweep|drilling|drill|hammering|mop)',\n",
    "    'WALKING': r'(walk|step|stepped|standing|stand|ran|run|run over|ran over|jump|climbing|climb|riding|wheeling|enter|entered|getting in|lean)',\n",
    "    'DRIVING': r'(driving|drive|accident|collision)',\n",
    "    'MEDICAL': r'(faint|injured|injury|fracture|fractured|torn|sustain|hurt|bruise|bruised|amputate)',\n",
    "    'OTHER': r'(unspecified|failure|miss|misjudged|reaction|motion|movement|lose|close|flick|fly|grab|inhale|introduce|playing|restrain|shatter|snapped|trod|turn|turning)'\n",
    "}\n",
    "\n",
    "    \n",
    "    # Check each category pattern\n",
    "    for category, pattern in categories.items():\n",
    "        if re.search(pattern, cause):\n",
    "            return category\n",
    "            \n",
    "    return 'OTHER'"
   ]
  },
  {
   "cell_type": "code",
   "execution_count": 21,
   "metadata": {},
   "outputs": [],
   "source": [
    "\n",
    "def get_body_part_category(body_part: str) -> str:\n",
    "    \"\"\"\n",
    "    Returns the anatomical category for a given body part string.\n",
    "    \n",
    "    Args:\n",
    "        body_part: String describing the body part\n",
    "        \n",
    "    Returns:\n",
    "        String representing the anatomical category\n",
    "    \"\"\"\n",
    "    if not body_part or pd.isna(body_part):\n",
    "        return 'UNSPECIFIED'\n",
    "    \n",
    "    # Convert to uppercase for consistent processing\n",
    "    part = str(body_part).upper()\n",
    "    \n",
    "    categories = {\n",
    "        'HEAD_FACE': r'(HEAD|FACE|LIP|FOREHEAD|SCALP|JAW|MOUTH|CHIN|CHEEK|EAR|TEETH|TOOTH|SPECTACLES|GLASSES)',\n",
    "        'EYES': r'(EYE|EYES|RIGHT EYE|LEFT EYE|RIGHT CORNEA|LEFT CORNEA|EYE CORNEA|EYELID)',\n",
    "        'TORSO': r'(BACK|CHEST|RIBS|SIDE|INGUINAL REGION|UPPER BACK|MIDDLE BACK|LOWER BACK|LOW BACK|LOWER LEFT BACK|RIB CAGE|LEFT RIB CAGE|RIGHT RIBS|STOMACH|UPPER STOMACH|SOFT TISSUE|TAIL BONE|COCCYX|BACK BONE|THORACIC BACK|LUMBAR SPINE|LUMBAR|LUMBAR BACK|ABDOMEN|ABDOME|GROIN|LEFT GROIN|BUTTOCK|LEFT CHEST|LEFT CHEST WALL|INTERNAL|INGUINAL HERNIA|Lungs|LOWER MIDDLE BACK)',\n",
    "        'UPPER_EXTREMITY': r'(ARM|ARMS|LEFT ARM|RIGHT ARM|UPPER ARM|UPPER RIGHT ARM|LEFT UPPER ARM|LOWER ARM|RIGHT LOWER ARM|SHOULDER|RIGHT SHOULDER|LEFT SHOULDER|RIGHT UPPER SHOULDER|ROTATOR CUFF|LEFT ROTATOR CUFF|ELBOW|LEFT ELBOW|RIGHT ELBOW|FOREARM|RIGHT FOREARM|LEFT FOREARM|LOWER FOREARM|RIGHT LOWER FOREARM|WRIST|WRISTS|LEFT WRIST|RIGHT WRIST)',\n",
    "        'HAND_FINGERS': r'(HAND|HANDS|RIGHT HAND|LEFT HAND|LEFT HANDS|LEFT HAND, RIGHT HAND|PALM|LEFT PALM|FINGER|FINGERS|RIGHT FINGER|LEFT FINGER|LEFT FINGERS|INDEX FINGER|LEFT INDEX FINGER|RIGHT INDEX FINGER|LEFT HAND INDEX FINGER|MIDDLE FINGER|LEFT MIDDLE FINGER|RIGHT MIDDLE FINGER|MIDDLE LEFT FINGER|RING FINGER|RIGHT RING FINGER|LEFT RING FINGER|LEFT HAND RING FINGER|LITTLE FINGER|RIGHT LITTLE FINGER|LEFT LITTLE FINGER|THUMB|LEFT THUMB|RIGHT THUMB|LEFT THUMB FINGER|LEFT INDEX AND MIDDLE FINGER|RIGHT HAND FINGERS|LEFT HAND FINGERS|LEFT HAND MIDDLE FINGER|RIGHT HAND INDEX FINGER|LEFT HAND KNUCKLE|RIGHT BICEP)',\n",
    "        'LOWER_EXTREMITY': r'(LEG|LEGS|LEFT LEG|RIGHT LOWER LEG|LOWER RIGHT LEG|LOWER LEFT LEG|LOWER LEG|LOWER LEFT LEG AND FOOT|KNEE|KNEES|RIGHT KNEE|LEFT KNEE|PATELLA|ANKLE|LEFT ANKLE|RIGHT ANKLE|FOOT|FEET|LEFT FOOT|RIGHT FOOT|TOE|TOES|LEFT TOE|RIGHT TOE|LEFT BIG TOE|BIG TOE|LEFT LITTLE TOE|RIGHT LITTLE TOE|THIGH|RIGHT THIGH|HIP|SHIN|RIGHT SHIN|CALF|LEFT CALF|HEEL)',\n",
    "        'NECK': r'(NECK|LEFT NECK|CERVICAL SPINE|BACK and NECK)',\n",
    "        'OTHER': r'(unspecified|BODY|WOUND|SKIN|MUSCLES|MUSCLE|TENDON|SCALE|FLASH|RIGHT|LEFT|INDEX)'\n",
    "    }\n",
    "    \n",
    "    \n",
    "    # Check each category pattern\n",
    "    for category, pattern in categories.items():\n",
    "        if re.search(pattern, part):\n",
    "            return category\n",
    "            \n",
    "    return 'OTHER'\n",
    "\n"
   ]
  },
  {
   "cell_type": "markdown",
   "metadata": {},
   "source": [
    "After mapping the existing classes to the right category, we apply the functions."
   ]
  },
  {
   "cell_type": "code",
   "execution_count": 22,
   "metadata": {},
   "outputs": [],
   "source": [
    "# Apply the categorization\n",
    "df_all['body_part_category'] = df_all['main_body_part_injured'].apply(get_body_part_category)\n",
    "\n",
    "df_all['cause_of_injury_category'] = df_all['cause_of_injury'].apply(get_injury_cause_category)"
   ]
  },
  {
   "cell_type": "code",
   "execution_count": 23,
   "metadata": {},
   "outputs": [
    {
     "data": {
      "text/html": [
       "<div>\n",
       "<style scoped>\n",
       "    .dataframe tbody tr th:only-of-type {\n",
       "        vertical-align: middle;\n",
       "    }\n",
       "\n",
       "    .dataframe tbody tr th {\n",
       "        vertical-align: top;\n",
       "    }\n",
       "\n",
       "    .dataframe thead th {\n",
       "        text-align: right;\n",
       "    }\n",
       "</style>\n",
       "<table border=\"1\" class=\"dataframe\">\n",
       "  <thead>\n",
       "    <tr style=\"text-align: right;\">\n",
       "      <th></th>\n",
       "      <th>main_body_part_injured</th>\n",
       "      <th>body_part_category</th>\n",
       "    </tr>\n",
       "  </thead>\n",
       "  <tbody>\n",
       "    <tr>\n",
       "      <th>0</th>\n",
       "      <td>LOWER BACK</td>\n",
       "      <td>TORSO</td>\n",
       "    </tr>\n",
       "    <tr>\n",
       "      <th>1</th>\n",
       "      <td>ELBOW</td>\n",
       "      <td>UPPER_EXTREMITY</td>\n",
       "    </tr>\n",
       "    <tr>\n",
       "      <th>2</th>\n",
       "      <td>LEFT MIDDLE FINGER</td>\n",
       "      <td>HAND_FINGERS</td>\n",
       "    </tr>\n",
       "    <tr>\n",
       "      <th>3</th>\n",
       "      <td>HAND</td>\n",
       "      <td>HAND_FINGERS</td>\n",
       "    </tr>\n",
       "    <tr>\n",
       "      <th>4</th>\n",
       "      <td>RIGHT LOWER LEG</td>\n",
       "      <td>LOWER_EXTREMITY</td>\n",
       "    </tr>\n",
       "  </tbody>\n",
       "</table>\n",
       "</div>"
      ],
      "text/plain": [
       "  main_body_part_injured body_part_category\n",
       "0             LOWER BACK              TORSO\n",
       "1                  ELBOW    UPPER_EXTREMITY\n",
       "2     LEFT MIDDLE FINGER       HAND_FINGERS\n",
       "3                   HAND       HAND_FINGERS\n",
       "4        RIGHT LOWER LEG    LOWER_EXTREMITY"
      ]
     },
     "execution_count": 23,
     "metadata": {},
     "output_type": "execute_result"
    }
   ],
   "source": [
    "# Example print of results\n",
    "df_all[['main_body_part_injured', 'body_part_category']].head()"
   ]
  },
  {
   "cell_type": "code",
   "execution_count": 24,
   "metadata": {},
   "outputs": [
    {
     "data": {
      "text/html": [
       "<div>\n",
       "<style scoped>\n",
       "    .dataframe tbody tr th:only-of-type {\n",
       "        vertical-align: middle;\n",
       "    }\n",
       "\n",
       "    .dataframe tbody tr th {\n",
       "        vertical-align: top;\n",
       "    }\n",
       "\n",
       "    .dataframe thead th {\n",
       "        text-align: right;\n",
       "    }\n",
       "</style>\n",
       "<table border=\"1\" class=\"dataframe\">\n",
       "  <thead>\n",
       "    <tr style=\"text-align: right;\">\n",
       "      <th></th>\n",
       "      <th>cause_of_injury</th>\n",
       "      <th>cause_of_injury_category</th>\n",
       "    </tr>\n",
       "  </thead>\n",
       "  <tbody>\n",
       "    <tr>\n",
       "      <th>0</th>\n",
       "      <td>strain</td>\n",
       "      <td>STRAIN_SPRAIN</td>\n",
       "    </tr>\n",
       "    <tr>\n",
       "      <th>1</th>\n",
       "      <td>kneel</td>\n",
       "      <td>STRAIN_SPRAIN</td>\n",
       "    </tr>\n",
       "    <tr>\n",
       "      <th>2</th>\n",
       "      <td>caught</td>\n",
       "      <td>COMPRESSION</td>\n",
       "    </tr>\n",
       "    <tr>\n",
       "      <th>3</th>\n",
       "      <td>lacerate</td>\n",
       "      <td>LACERATION</td>\n",
       "    </tr>\n",
       "    <tr>\n",
       "      <th>4</th>\n",
       "      <td>lacerate</td>\n",
       "      <td>LACERATION</td>\n",
       "    </tr>\n",
       "  </tbody>\n",
       "</table>\n",
       "</div>"
      ],
      "text/plain": [
       "  cause_of_injury cause_of_injury_category\n",
       "0          strain            STRAIN_SPRAIN\n",
       "1           kneel            STRAIN_SPRAIN\n",
       "2          caught              COMPRESSION\n",
       "3        lacerate               LACERATION\n",
       "4        lacerate               LACERATION"
      ]
     },
     "execution_count": 24,
     "metadata": {},
     "output_type": "execute_result"
    }
   ],
   "source": [
    "# Example print of results\n",
    "df_all[['cause_of_injury', 'cause_of_injury_category']].head()"
   ]
  },
  {
   "cell_type": "markdown",
   "metadata": {},
   "source": [
    "<h1 id=\"stage_4_model\" style=\"font-size:22px; background-color: #E6E6E6; color: black; height: 50px; line-height: 50px;  padding-left: 14px;\">Stage 4: Model development & comparison</h1>"
   ]
  },
  {
   "cell_type": "markdown",
   "metadata": {},
   "source": [
    "In this section, we compare the performance of the baseline model and the enhanced model that includes LLM-derived features. The comparison involves evaluating regression metrics such as RMSE, MAE, R2, and MAPE. Additionally, we analyze feature importance rankings for both models and perform a statistical significance test to determine if the improvements are significant.  This section provides insights into the added value of the LLM-derived features in predicting the target variable."
   ]
  },
  {
   "cell_type": "code",
   "execution_count": 25,
   "metadata": {},
   "outputs": [],
   "source": [
    "#Drop irrelevant columns\n",
    "df_model = df_all.drop(columns=['InitialIncurredCalimsCost', 'ClaimDescription', 'ClaimNumber', 'DateTimeOfAccident',  'UltimateIncurredClaimCost', 'DateReported', 'cause_of_injury', 'main_body_part_injured'])\n"
   ]
  },
  {
   "cell_type": "markdown",
   "metadata": {},
   "source": [
    "We then create two different data sets, one with the additional LLM features, the other one with only the base columns."
   ]
  },
  {
   "cell_type": "code",
   "execution_count": 26,
   "metadata": {},
   "outputs": [],
   "source": [
    "# Create df for enhanced model\n",
    "df_encoded = pd.get_dummies(\n",
    "    df_model,\n",
    "    columns=['body_part_category', 'cause_of_injury_category'],\n",
    "    prefix=['body', 'cause'],\n",
    "    drop_first=True\n",
    ")"
   ]
  },
  {
   "cell_type": "code",
   "execution_count": 27,
   "metadata": {},
   "outputs": [],
   "source": [
    "# create df for baseline model\n",
    "df_baseline = df_encoded.drop(columns=[col for col in df_encoded.columns if 'body' in col or 'cause' in col])"
   ]
  },
  {
   "cell_type": "code",
   "execution_count": 28,
   "metadata": {},
   "outputs": [
    {
     "data": {
      "text/plain": [
       "Index(['Age', 'DependentChildren', 'DependentsOther', 'WeeklyWages',\n",
       "       'HoursWorkedPerWeek', 'DaysWorkedPerWeek',\n",
       "       'number_of_body_parts_injured', 'Log_UltimateIncurredClaimCost',\n",
       "       'MaritalStatus_M', 'MaritalStatus_S', 'Gender_M', 'PartTimeFullTime_F',\n",
       "       'Rep_Acc_Diff', 'Accident_Month', 'Accident_Year', 'Accident_Day',\n",
       "       'Accident_Hour', 'Reported_Month', 'Reported_Year', 'Reported_Day',\n",
       "       'body_HAND_FINGERS', 'body_HEAD_FACE', 'body_LOWER_EXTREMITY',\n",
       "       'body_NECK', 'body_OTHER', 'body_TORSO', 'body_UPPER_EXTREMITY',\n",
       "       'cause_COMPRESSION', 'cause_CONTACT', 'cause_DRIVING',\n",
       "       'cause_ERGONOMIC', 'cause_FALL_SLIP_TRIP', 'cause_IMPACT',\n",
       "       'cause_LACERATION', 'cause_LIFTING_CARRYING', 'cause_MEDICAL',\n",
       "       'cause_OTHER', 'cause_STRAIN_SPRAIN', 'cause_WALKING'],\n",
       "      dtype='object')"
      ]
     },
     "execution_count": 28,
     "metadata": {},
     "output_type": "execute_result"
    }
   ],
   "source": [
    "df_encoded.columns"
   ]
  },
  {
   "cell_type": "code",
   "execution_count": 30,
   "metadata": {},
   "outputs": [
    {
     "data": {
      "text/plain": [
       "Index(['Age', 'DependentChildren', 'DependentsOther', 'WeeklyWages',\n",
       "       'HoursWorkedPerWeek', 'DaysWorkedPerWeek',\n",
       "       'Log_UltimateIncurredClaimCost', 'MaritalStatus_M', 'MaritalStatus_S',\n",
       "       'Gender_M', 'PartTimeFullTime_F', 'Rep_Acc_Diff', 'Accident_Month',\n",
       "       'Accident_Year', 'Accident_Day', 'Accident_Hour', 'Reported_Month',\n",
       "       'Reported_Year', 'Reported_Day'],\n",
       "      dtype='object')"
      ]
     },
     "execution_count": 30,
     "metadata": {},
     "output_type": "execute_result"
    }
   ],
   "source": [
    "df_baseline.columns"
   ]
  },
  {
   "cell_type": "markdown",
   "metadata": {},
   "source": [
    "To fit our model, we create a pipeline that processes the data, trains the model and makes predictions and evaluations."
   ]
  },
  {
   "cell_type": "code",
   "execution_count": null,
   "metadata": {},
   "outputs": [],
   "source": [
    "# Pipeline to train the model\n",
    "def create_xgboost_pipeline(\n",
    "    data: pd.DataFrame,\n",
    "    target_column: str,\n",
    "    test_size: float = 0.2,\n",
    "    random_state: int = 42\n",
    ") -> tuple:\n",
    "    \"\"\"\n",
    "    Creates and trains a sklearn Gradient Boosting regression pipeline with categorical handling.\n",
    "    \n",
    "    Parameters:\n",
    "    -----------\n",
    "    df : pandas.DataFrame\n",
    "        Input DataFrame containing features and target\n",
    "    target_column : str\n",
    "        Name of the target column\n",
    "    categorical_columns : list, optional\n",
    "        List of categorical column names. If None, will try to automatically detect\n",
    "    test_size : float, optional\n",
    "        Proportion of dataset to include in the test split\n",
    "    random_state : int, optional\n",
    "        Random state for reproducibility\n",
    "    \n",
    "    Returns:\n",
    "    --------\n",
    "    tuple\n",
    "        (trained_pipeline, X_train, X_test, y_train, y_test)\n",
    "    \"\"\"\n",
    "    \n",
    "    data_copy = data.copy()\n",
    "    \n",
    "    # Separate features and target\n",
    "    X = data.drop(columns=[target_column])\n",
    "    y = data_copy[target_column]\n",
    "    \n",
    "\n",
    "    # Create pipeline with sklearn's GradientBoostingRegressor\n",
    "    pipeline = Pipeline([\n",
    "        ('regressor', GradientBoostingRegressor(\n",
    "            n_estimators=200,\n",
    "            learning_rate=0.1,\n",
    "            max_depth=3,\n",
    "            random_state=random_state\n",
    "        ))\n",
    "    ])\n",
    "    \n",
    "    # Split the data\n",
    "    X_train, X_test, y_train, y_test = train_test_split(\n",
    "        X, y, test_size=test_size, random_state=random_state\n",
    "    )\n",
    "    \n",
    "    # Fit the pipeline\n",
    "    pipeline.fit(X_train, y_train)\n",
    "    \n",
    "    return pipeline, X_train, X_test, y_train, y_test\n",
    "\n",
    "def predict_with_pipeline(pipeline, X: pd.DataFrame) -> np.ndarray:\n",
    "    \"\"\"\n",
    "    Make predictions using the trained pipeline\n",
    "    \n",
    "    Parameters:\n",
    "    -----------\n",
    "    pipeline : sklearn.Pipeline\n",
    "        Trained pipeline\n",
    "    X : pandas.DataFrame\n",
    "        Features to predict on\n",
    "    \n",
    "    Returns:\n",
    "    --------\n",
    "    numpy.ndarray\n",
    "        Predictions\n",
    "    \"\"\"\n",
    "    return pipeline.predict(X)\n",
    "\n",
    "def evaluate_model(pipeline, X_test: pd.DataFrame, y_test: pd.Series) -> dict:\n",
    "    \"\"\"\n",
    "    Evaluate the model performance\n",
    "    \n",
    "    Parameters:\n",
    "    -----------\n",
    "    pipeline : sklearn.Pipeline\n",
    "        Trained pipeline\n",
    "    X_test : pandas.DataFrame\n",
    "        Test features\n",
    "    y_test : pandas.Series\n",
    "        Test target values\n",
    "    \n",
    "    Returns:\n",
    "    --------\n",
    "    dict\n",
    "        Dictionary containing evaluation metrics\n",
    "    \"\"\"\n",
    "    from sklearn.metrics import mean_squared_error, r2_score, mean_absolute_error\n",
    "    \n",
    "    y_pred = pipeline.predict(X_test)\n",
    "    \n",
    "    return {\n",
    "        'mse': mean_squared_error(y_test, y_pred),\n",
    "        'rmse': np.sqrt(mean_squared_error(y_test, y_pred)),\n",
    "        'mae': mean_absolute_error(y_test, y_pred),\n",
    "        'r2': r2_score(y_test, y_pred)\n",
    "    }"
   ]
  },
  {
   "cell_type": "markdown",
   "metadata": {},
   "source": [
    "Now we fit both the baseline model and the enhanced model."
   ]
  },
  {
   "cell_type": "code",
   "execution_count": 36,
   "metadata": {},
   "outputs": [
    {
     "name": "stdout",
     "output_type": "stream",
     "text": [
      "{'mse': np.float64(1.8329756404558588), 'rmse': np.float64(1.3538743074805204), 'mae': np.float64(1.1114618555254265), 'r2': 0.2668698654631293}\n"
     ]
    }
   ],
   "source": [
    "# Create and train the pipeline\n",
    "pipeline_bl, X_train, X_test, y_train, y_test = create_xgboost_pipeline(\n",
    "    data=df_baseline,\n",
    "    target_column= 'Log_UltimateIncurredClaimCost',\n",
    "   \n",
    ")\n",
    "\n",
    "# Make predictions\n",
    "predictions_bl = predict_with_pipeline(pipeline_bl, X_test)\n",
    "\n",
    "# Evaluate the model\n",
    "metrics_bl = evaluate_model(pipeline_bl,X_test, y_test)\n",
    "print(metrics_bl)"
   ]
  },
  {
   "cell_type": "code",
   "execution_count": 37,
   "metadata": {},
   "outputs": [
    {
     "name": "stdout",
     "output_type": "stream",
     "text": [
      "{'mse': np.float64(1.2295973498980777), 'rmse': np.float64(1.108872107097152), 'mae': np.float64(0.8460417302740473), 'r2': 0.5082013908636742}\n"
     ]
    }
   ],
   "source": [
    "\n",
    "# Create and train the pipeline\n",
    "pipeline_eh, X_train_eh, X_test_eh, y_train_eh, y_test_eh = create_xgboost_pipeline(\n",
    "    data=df_encoded,\n",
    "    target_column= 'Log_UltimateIncurredClaimCost',\n",
    "   \n",
    ")\n",
    "\n",
    "# Make predictions\n",
    "predictions = predict_with_pipeline(pipeline_eh, X_test_eh)\n",
    "\n",
    "# Evaluate the model\n",
    "metrics = evaluate_model(pipeline_eh, X_test_eh, y_test_eh)\n",
    "print(metrics)"
   ]
  },
  {
   "cell_type": "code",
   "execution_count": 38,
   "metadata": {},
   "outputs": [
    {
     "data": {
      "image/png": "[encoded data removed]",
      "text/plain": [
       "<Figure size 1000x600 with 1 Axes>"
      ]
     },
     "metadata": {},
     "output_type": "display_data"
    }
   ],
   "source": [
    "# Plot feature importance for df_baseline predictions\n",
    "feature_importance = pipeline_bl.named_steps['regressor'].feature_importances_\n",
    "sorted_idx = np.argsort(feature_importance)\n",
    "pos = np.arange(sorted_idx.shape[0]) + .5\n",
    "\n",
    "plt.figure(figsize=(10, 6))\n",
    "plt.barh(pos, feature_importance[sorted_idx], align='center')\n",
    "plt.yticks(pos, df_baseline.drop(columns=['Log_UltimateIncurredClaimCost']).columns[sorted_idx])\n",
    "plt.xlabel('Feature Importance')\n",
    "plt.title('Variable Importance Plot for df_encodedPredictions')\n",
    "plt.tight_layout()\n",
    "plt.show()"
   ]
  },
  {
   "cell_type": "code",
   "execution_count": 39,
   "metadata": {},
   "outputs": [
    {
     "data": {
      "image/png": "[encoded data removed]",
      "text/plain": [
       "<Figure size 1000x600 with 1 Axes>"
      ]
     },
     "metadata": {},
     "output_type": "display_data"
    }
   ],
   "source": [
    "feature_importance = pipeline_eh.named_steps['regressor'].feature_importances_\n",
    "sorted_idx = np.argsort(feature_importance)\n",
    "pos = np.arange(sorted_idx.shape[0]) + .5\n",
    "\n",
    "plt.figure(figsize=(10, 6))\n",
    "plt.barh(pos, feature_importance[sorted_idx], align='center')\n",
    "plt.yticks(pos, df_encoded.drop(columns=['Log_UltimateIncurredClaimCost']).columns[sorted_idx])\n",
    "plt.xlabel('Feature Importance')\n",
    "plt.title('Variable Importance Plot for df_encodedPredictions')\n",
    "plt.tight_layout()\n",
    "plt.show()"
   ]
  },
  {
   "cell_type": "code",
   "execution_count": 40,
   "metadata": {},
   "outputs": [],
   "source": [
    "\n",
    "\n",
    "def evaluate_model(y_true, y_pred):\n",
    "    \"\"\"Calculate various regression metrics.\"\"\"\n",
    "    metrics = {\n",
    "        'RMSE': np.sqrt(mean_squared_error(y_true, y_pred)),\n",
    "        'MAE': mean_absolute_error(y_true, y_pred),\n",
    "        'R2': r2_score(y_true, y_pred),\n",
    "        'MAPE': np.mean(np.abs((y_true - y_pred) / y_true)) * 100\n",
    "    }\n",
    "    \n",
    "    return pd.Series(metrics)\n",
    "\n",
    "def compare_models(baseline_pipeline, enhanced_pipeline, \n",
    "                  X_baseline_test, X_enhanced_test, y_test, groups=None):\n",
    "    \"\"\"\n",
    "    Compare two sklearn Pipeline models with GradientBoostingRegressor.\n",
    "    \n",
    "    Parameters:\n",
    "    - baseline_pipeline: trained baseline Pipeline with GradientBoostingRegressor\n",
    "    - enhanced_pipeline: trained enhanced Pipeline with GradientBoostingRegressor\n",
    "    - X_baseline_test: test features for baseline model\n",
    "    - X_enhanced_test: test features for enhanced model\n",
    "    - y_test: true target values\n",
    "    - groups: optional pandas Series for group-wise comparison\n",
    "    \"\"\"\n",
    "    # Get predictions\n",
    "    y_pred_baseline = baseline_pipeline.predict(X_baseline_test)\n",
    "    y_pred_enhanced = enhanced_pipeline.predict(X_enhanced_test)\n",
    "    \n",
    "    # Overall performance comparison\n",
    "    baseline_metrics = evaluate_model(y_test, y_pred_baseline)\n",
    "    enhanced_metrics = evaluate_model(y_test, y_pred_enhanced)\n",
    "    \n",
    "    comparison_df = pd.DataFrame({\n",
    "        'Baseline': baseline_metrics,\n",
    "        'Enhanced': enhanced_metrics,\n",
    "        'Improvement(%)': pd.Series({\n",
    "        # For metrics where lower is better, use negative of the relative change\n",
    "        'RMSE': -((enhanced_metrics['RMSE'] - baseline_metrics['RMSE']) / baseline_metrics['RMSE'] * 100),\n",
    "        'MAE': -((enhanced_metrics['MAE'] - baseline_metrics['MAE']) / baseline_metrics['MAE'] * 100),\n",
    "        'MAPE': -((enhanced_metrics['MAPE'] - baseline_metrics['MAPE']) / baseline_metrics['MAPE'] * 100),\n",
    "        # For R2, higher is better, so keep the original calculation\n",
    "        'R2': ((enhanced_metrics['R2'] - baseline_metrics['R2']) / baseline_metrics['R2'] * 100)\n",
    "        })\n",
    "    })\n",
    "    # Feature importance comparison\n",
    "    baseline_importance = pd.DataFrame({\n",
    "        'feature': X_baseline_test.columns,\n",
    "        'importance': baseline_pipeline.named_steps['regressor'].feature_importances_\n",
    "    }).sort_values('importance', ascending=False)\n",
    "    \n",
    "    enhanced_importance = pd.DataFrame({\n",
    "        'feature': X_enhanced_test.columns,\n",
    "        'importance': enhanced_pipeline.named_steps['regressor'].feature_importances_\n",
    "    }).sort_values('importance', ascending=False)\n",
    "    \n",
    "    # Residual analysis\n",
    "    baseline_residuals = y_test - y_pred_baseline\n",
    "    enhanced_residuals = y_test - y_pred_enhanced\n",
    "    \n",
    "    # Group-wise performance if groups are provided\n",
    "    group_comparison = None\n",
    "    if groups is not None:\n",
    "        group_metrics = []\n",
    "        for group_name in groups.unique():\n",
    "            mask = groups == group_name\n",
    "            group_metrics.append({\n",
    "                'Group': group_name,\n",
    "                'Baseline_RMSE': np.sqrt(mean_squared_error(y_test[mask], y_pred_baseline[mask])),\n",
    "                'Enhanced_RMSE': np.sqrt(mean_squared_error(y_test[mask], y_pred_enhanced[mask])),\n",
    "                'Baseline_R2': r2_score(y_test[mask], y_pred_baseline[mask]),\n",
    "                'Enhanced_R2': r2_score(y_test[mask], y_pred_enhanced[mask])\n",
    "            })\n",
    "        group_comparison = pd.DataFrame(group_metrics)\n",
    "    \n",
    "    # Statistical significance test\n",
    "    t_stat, p_value = stats.ttest_rel(\n",
    "        np.abs(baseline_residuals),\n",
    "        np.abs(enhanced_residuals)\n",
    "    )\n",
    "    \n",
    "    \n",
    "    return {\n",
    "        'overall_metrics': comparison_df,\n",
    "        'group_comparison': group_comparison,\n",
    "        'feature_importance': {\n",
    "            'baseline': baseline_importance,\n",
    "            'enhanced': enhanced_importance\n",
    "        },\n",
    "        'statistical_test': {\n",
    "            't_statistic': t_stat,\n",
    "            'p_value': p_value\n",
    "        },\n",
    "        'residuals': {\n",
    "            'baseline': baseline_residuals,\n",
    "            'enhanced': enhanced_residuals\n",
    "        }\n",
    "    }"
   ]
  },
  {
   "cell_type": "code",
   "execution_count": null,
   "metadata": {},
   "outputs": [
    {
     "name": "stdout",
     "output_type": "stream",
     "text": [
      "Overall Performance Comparison:\n",
      "       Baseline   Enhanced  Improvement(%)\n",
      "MAE    1.111462   0.846042       23.880273\n",
      "MAPE  14.519766  10.678322       26.456653\n",
      "R2     0.266870   0.508201       90.430414\n",
      "RMSE   1.353874   1.108872       18.096377\n",
      "\n",
      "Top 5 Important Features (Baseline):\n",
      "          feature  importance\n",
      "3     WeeklyWages    0.397543\n",
      "0             Age    0.122524\n",
      "16  Reported_Year    0.095232\n",
      "10   Rep_Acc_Diff    0.073981\n",
      "12  Accident_Year    0.047769\n",
      "\n",
      "Top 5 Important Features (Enhanced):\n",
      "              feature  importance\n",
      "3         WeeklyWages    0.217340\n",
      "24         body_TORSO    0.163204\n",
      "17      Reported_Year    0.072543\n",
      "19  body_HAND_FINGERS    0.054193\n",
      "31       cause_IMPACT    0.052903\n",
      "\n",
      "Statistical Test Results:\n",
      "t-statistic: 10.067203417734781\n",
      "p-value: 3.9476304258128054e-22\n"
     ]
    }
   ],
   "source": [
    "# Compare the models\n",
    "X_bl = df_baseline.drop(columns='Log_UltimateIncurredClaimCost')\n",
    "X_eh = df_encoded.drop(columns='Log_UltimateIncurredClaimCost')\n",
    "\n",
    "comparison_results = compare_models(\n",
    "    pipeline_bl,\n",
    "    pipeline_eh,\n",
    "    X_test,\n",
    "    X_test_eh,\n",
    "    y_test,  # Assuming same test set target values\n",
    "    groups=None  # Add groups if needed\n",
    ")\n",
    "\n",
    "# Print overall metrics\n",
    "print(\"Overall Performance Comparison:\")\n",
    "print(comparison_results['overall_metrics'])\n",
    "\n",
    "# Get feature importance rankings\n",
    "print(\"\\nTop 5 Important Features (Baseline):\")\n",
    "print(comparison_results['feature_importance']['baseline'].head())\n",
    "\n",
    "print(\"\\nTop 5 Important Features (Enhanced):\")\n",
    "print(comparison_results['feature_importance']['enhanced'].head())\n",
    "\n",
    "# Check statistical significance\n",
    "print(\"\\nStatistical Test Results:\")\n",
    "print(f\"t-statistic: {comparison_results['statistical_test']['t_statistic']}\")\n",
    "print(f\"p-value: {comparison_results['statistical_test']['p_value']}\")"
   ]
  },
  {
   "cell_type": "markdown",
   "metadata": {},
   "source": [
    "# \n",
    "<h1 id=\"appendix_grid\" style=\"font-size:22px; background-color: #E6E6E6; color: black; height: 50px; line-height: 50px;  padding-left: 14px;\">Appendix: Hyperparameter optimization with grid search</h1>"
   ]
  },
  {
   "cell_type": "markdown",
   "metadata": {},
   "source": [
    "The grid search in the provided code performs hyperparameter tuning for the `GradientBoostingRegressor` model. It systematically evaluates combinations of hyperparameters to find the best configuration that minimizes the error on the target variable.\n",
    "\n",
    "##### Steps:\n",
    "1. **Parameter Grid Definition**:\n",
    "    - The grid search explores different values for `max_depth` (tree depth) and `n_estimators` (number of boosting stages).\n",
    "    - Example values: `max_depth` = [3, 5, 7], `n_estimators` = [50, 100, 150, 200].\n",
    "\n",
    "2. **Cross-Validation**:\n",
    "    - A 5-fold cross-validation is used to split the data into training and validation sets.\n",
    "    - This ensures the  performance is evaluated on multiple subsets of the data, reducing the risk of overfitting.\n",
    "\n",
    "3. **Scoring Metric**:\n",
    "    - The scoring metric used is negative mean squared error (`neg_mean_squared_error`), which is converted to RMSE for interpretability.\n",
    "\n",
    "4. **Best Model Selection**:\n",
    "    - The grid search identifies the combination of hyperparameters that results in the lowest RMSE.\n",
    "    - The best model is then returned.\n",
    "\n",
    "This process helps optimize the  performance by finding the most suitable hyperparameters for the given dataset."
   ]
  },
  {
   "cell_type": "code",
   "execution_count": 51,
   "metadata": {},
   "outputs": [],
   "source": [
    "\n",
    "\n",
    "def train_gbr_cv(data, target_column):\n",
    "    \"\"\"\n",
    "    Performs 5-fold cross-validation with GradientBoostingRegressor\n",
    "    \n",
    "    Parameters:\n",
    "    data: pandas DataFrame containing features and target\n",
    "    target_column: string, name of the target column\n",
    "    \n",
    "    Returns:\n",
    "    best_model: trained model with best parameters\n",
    "    cv_results: dictionary containing cross-validation results\n",
    "    \"\"\"\n",
    "    # Separate features and target\n",
    "    X = data.drop(target_column, axis=1)\n",
    "    y = data[target_column]\n",
    "    \n",
    "    # Define parameter grid\n",
    "    param_grid = {\n",
    "        'max_depth': [3, 5, 7],\n",
    "        'n_estimators': [50, 100, 150, 200]\n",
    "    }\n",
    "    \n",
    "    # Initialize model\n",
    "    gbr = GradientBoostingRegressor(random_state=42)\n",
    "    \n",
    "    # Setup cross-validation\n",
    "    kf = KFold(n_splits=5, shuffle=True, random_state=42)\n",
    "    \n",
    "    # Perform grid search with cross-validation\n",
    "    grid_search = GridSearchCV(\n",
    "        estimator=gbr,\n",
    "        param_grid=param_grid,\n",
    "        cv=kf,\n",
    "        scoring='neg_mean_squared_error',\n",
    "        n_jobs=-1,\n",
    "        verbose=1\n",
    "    )\n",
    "    \n",
    "    # Fit the model\n",
    "    grid_search.fit(X, y)\n",
    "    \n",
    "    # Get best model and results\n",
    "    best_model = grid_search.best_estimator_\n",
    "    cv_results = {\n",
    "        'best_params': grid_search.best_params_,\n",
    "        'best_score': np.sqrt(-grid_search.best_score_),  # Convert MSE to RMSE\n",
    "        'cv_results': grid_search.cv_results_\n",
    "    }\n",
    "    \n",
    "    # Print results\n",
    "    print(f\"Best parameters: {cv_results['best_params']}\")\n",
    "    print(f\"Best RMSE: {cv_results['best_score']:.4f}\")\n",
    "    \n",
    "    return best_model, cv_results"
   ]
  },
  {
   "cell_type": "code",
   "execution_count": 52,
   "metadata": {},
   "outputs": [
    {
     "name": "stdout",
     "output_type": "stream",
     "text": [
      "Fitting 5 folds for each of 12 candidates, totalling 60 fits\n",
      "Best parameters: {'max_depth': 3, 'n_estimators': 50}\n",
      "Best RMSE: 1.3256\n"
     ]
    }
   ],
   "source": [
    "# Baseline model\n",
    "best_model, cv_results = train_gbr_cv(df_baseline, 'Log_UltimateIncurredClaimCost')"
   ]
  },
  {
   "cell_type": "code",
   "execution_count": 53,
   "metadata": {},
   "outputs": [
    {
     "name": "stdout",
     "output_type": "stream",
     "text": [
      "Fitting 5 folds for each of 12 candidates, totalling 60 fits\n",
      "Best parameters: {'max_depth': 3, 'n_estimators': 200}\n",
      "Best RMSE: 1.0960\n"
     ]
    }
   ],
   "source": [
    "# Enhanced model\n",
    "best_model, cv_results = train_gbr_cv(df_encoded, 'Log_UltimateIncurredClaimCost')"
   ]
  }
 ],
 "metadata": {
  "kernelspec": {
   "display_name": "myenv",
   "language": "python",
   "name": "python3"
  },
  "language_info": {
   "codemirror_mode": {
    "name": "ipython",
    "version": 3
   },
   "file_extension": ".py",
   "mimetype": "text/x-python",
   "name": "python",
   "nbconvert_exporter": "python",
   "pygments_lexer": "ipython3",
   "version": "3.13.2"
  }
 },
 "nbformat": 4,
 "nbformat_minor": 2
}
